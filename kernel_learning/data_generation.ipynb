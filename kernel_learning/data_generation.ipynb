{
 "cells": [
  {
   "cell_type": "markdown",
   "id": "ad39e4f1",
   "metadata": {},
   "source": [
    "## Data Generation\n",
    "Author: Allen Ross  \n",
    "Date: 05/13/21   \n",
    "In this notebook we will be generating some data from known kernels to test kernel learning methods."
   ]
  },
  {
   "cell_type": "code",
   "execution_count": 1,
   "id": "4404b84b",
   "metadata": {},
   "outputs": [],
   "source": [
    "# Libraries\n",
    "import gpflow\n",
    "import numpy as np\n",
    "import pandas as pd\n",
    "import matplotlib as mpl\n",
    "import matplotlib.pyplot as plt\n",
    "import seaborn as sns\n",
    "import tensorflow as tf\n",
    "from gpflow.utilities import print_summary\n",
    "\n",
    "# Figure options\n",
    "SMALL_SIZE = 6\n",
    "MEDIUM_SIZE = 8\n",
    "BIGGER_SIZE = 10\n",
    "plt.rc('font', size=SMALL_SIZE)          # controls default text sizes\n",
    "plt.rc('axes', titlesize=BIGGER_SIZE)     # fontsize of the axes title\n",
    "plt.rc('axes', labelsize=MEDIUM_SIZE)    # fontsize of the x and y labels\n",
    "plt.rc('xtick', labelsize=SMALL_SIZE)    # fontsize of the tick labels\n",
    "plt.rc('ytick', labelsize=SMALL_SIZE)    # fontsize of the tick labels\n",
    "plt.rc('legend', fontsize=SMALL_SIZE)    # legend fontsize\n",
    "plt.rc('figure', titlesize=BIGGER_SIZE)  # fontsize of the figure title\n",
    "mpl.rcParams['axes.linewidth'] = 0.25\n",
    "# set tick width\n",
    "mpl.rcParams['xtick.major.size'] = 2\n",
    "mpl.rcParams['xtick.major.width'] = .5\n",
    "mpl.rcParams['xtick.minor.size'] = 1\n",
    "mpl.rcParams['xtick.minor.width'] = .25\n",
    "mpl.rcParams['ytick.major.size'] = 2\n",
    "mpl.rcParams['ytick.major.width'] = .5\n",
    "mpl.rcParams['ytick.minor.size'] = 1\n",
    "mpl.rcParams['ytick.minor.width'] = .25"
   ]
  },
  {
   "cell_type": "markdown",
   "id": "fc3991de",
   "metadata": {},
   "source": [
    "Generate X design matrix"
   ]
  },
  {
   "cell_type": "code",
   "execution_count": 2,
   "id": "a3ef7ccb",
   "metadata": {},
   "outputs": [
    {
     "name": "stdout",
     "output_type": "stream",
     "text": [
      "Size of observation set: (117, 3)\n"
     ]
    },
    {
     "data": {
      "text/plain": [
       "array([[0. , 0. , 2.5],\n",
       "       [0. , 0. , 5.1],\n",
       "       [0. , 0. , 5.5],\n",
       "       [0. , 0. , 6.1],\n",
       "       [0. , 0. , 6.8]])"
      ]
     },
     "execution_count": 2,
     "metadata": {},
     "output_type": "execute_result"
    }
   ],
   "source": [
    "## Specify data generating parameters\n",
    "# Set seed for reproducibility\n",
    "np.random.seed(9012)\n",
    "\n",
    "# Number of individual units\n",
    "num_units = 10\n",
    "\n",
    "# Assign treatment group to each unit\n",
    "treat_group = np.repeat([0,1], num_units/2)\n",
    "# treat_group = np.random.binomial(n=1, p=0.6, size=num_units)\n",
    "\n",
    "# Sample number of observations for each unit\n",
    "num_obs = np.random.poisson(lam=12, size=num_units)\n",
    "\n",
    "# Sample from uniform distribution for observation times\n",
    "x = np.concatenate(\n",
    "    [np.sort(np.round(np.random.uniform(low=0, high=12, size=i),1)) for i in num_obs],\n",
    "    axis=0)\n",
    "\n",
    "# Put unit ID and observation time together\n",
    "df = np.array([np.repeat(np.arange(num_units), num_obs),\n",
    "               np.repeat(treat_group, num_obs),\n",
    "               x]).T\n",
    "print('Size of observation set:', df.shape)\n",
    "df[:5,]"
   ]
  },
  {
   "cell_type": "code",
   "execution_count": 3,
   "id": "9aa731fc",
   "metadata": {},
   "outputs": [
    {
     "name": "stdout",
     "output_type": "stream",
     "text": [
      "Size of simulation set: (1200, 3)\n"
     ]
    },
    {
     "data": {
      "text/plain": [
       "array([[0. , 0. , 0. ],\n",
       "       [0. , 0. , 0.1],\n",
       "       [0. , 0. , 0.2],\n",
       "       [0. , 0. , 0.3],\n",
       "       [0. , 0. , 0.4]])"
      ]
     },
     "execution_count": 3,
     "metadata": {},
     "output_type": "execute_result"
    }
   ],
   "source": [
    "# Create range for simulated set as well\n",
    "sim_x = np.arange(start=0, stop=12, step=0.1)\n",
    "df_sim = np.hstack((np.repeat(np.arange(num_units), len(sim_x))[:, None],\n",
    "               np.repeat(treat_group, len(sim_x))[:, None],\n",
    "               np.tile(np.round(sim_x,2), reps=num_units)[:, None]))\n",
    "\n",
    "# Get proper index of observed rows\n",
    "obs_idx = (np.concatenate([np.where((df_sim == df[i,:]).sum(axis=1) == 3) \n",
    "                           for i in range(df.shape[0])]).flatten())\n",
    "\n",
    "print('Size of simulation set:', df_sim.shape)\n",
    "df_sim[:5,]"
   ]
  },
  {
   "cell_type": "markdown",
   "id": "fabf82a5",
   "metadata": {},
   "source": [
    "### Kernels\n",
    "\n",
    "#### Kernel 1: individual offset + matern32 over time\n",
    "This kernel represents a biological process that has differening individual levels, but across individuals there is a conserved dynamic process occuring. An example of what this might represent is a metabolite that is tied to specific time-dependent events that are similar across individuals (e.g. holidays or large gatherings might produce these effects).\n",
    "\n",
    "#### Kernel 2: individual offset + individual * squaredexp over time + periodic over time\n",
    "This kernel represents a biological process that also has differing individual level offsets, individual-specific time components, and an overall periodic process occuring across all individuals. This might represent a metabolite that has a seasonal effect but also depends on a particular individuals behaviors and habits over time. \n",
    "\n",
    "#### Kernel 3: individual offset + linear treatment effect\n",
    "This kernel represents a linear treatment effect over time, where each individual has a different baseline value. This might represent a particular metabolite value that differs by person, but also is affected by a given treatment over time. \n",
    "\n",
    "#### Kernel 4: individual offset + polynomial treatment effect + individual * matern32 over time\n",
    "This kernel represents a nonlinear treatment effect but it is also confounded by the fact that the feature is also changing naturally over time."
   ]
  },
  {
   "cell_type": "code",
   "execution_count": 4,
   "id": "e779eae0",
   "metadata": {},
   "outputs": [],
   "source": [
    "## Specify kernels\n",
    "# First kernel is just a simple time varying covariance structure + unit offset\n",
    "k1 = (gpflow.kernels.Matern32(variance=1.0, lengthscales=1.0, active_dims=[2]) + \n",
    "     gpflow.kernels.Coregion(output_dim=num_units, rank=1, active_dims=[0]))\n",
    "#\n",
    "\n",
    "# Second kernel is random unit specfic effect + time varying unit specific effect + \n",
    "# periodic overall effect\n",
    "k2 = (gpflow.kernels.Coregion(output_dim=num_units, rank=1, active_dims=[0]) + \n",
    "     gpflow.kernels.SquaredExponential(variance=1.0, lengthscales=1.0, active_dims=[2]) * \n",
    "     gpflow.kernels.Coregion(output_dim=num_units, rank=1, active_dims=[0]) + \n",
    "     gpflow.kernels.Periodic(\n",
    "         base_kernel=gpflow.kernels.SquaredExponential(\n",
    "             variance=1.0, active_dims=[2]),\n",
    "         period=3.0))\n",
    "\n",
    "# Third kernel is random unit specific effect + treatment effect\n",
    "k3 = (gpflow.kernels.Coregion(output_dim=num_units, rank=1, active_dims=[0]) + \n",
    "      gpflow.kernels.Coregion(output_dim=len(np.unique(treat_group)), rank=1, active_dims=[1]) * \n",
    "      gpflow.kernels.Linear(variance=0.1, active_dims=[2]))\n",
    "\n",
    "# Fourth kernel is unit specific effect + changepoint (M32/M32)\n",
    "# k4 = (gpflow.kernels.Coregion(output_dim=num_units, rank=1, active_dims=[0]) + \n",
    "#       gpflow.kernels.ChangePoints(kernels = [gpflow.kernels.Matern32(variance=5.0,lengthscales=0.5,active_dims=[2]),\n",
    "#                                              gpflow.kernels.Matern32(variance=1.0,lengthscales=2.5,active_dims=[2])],\n",
    "#                                   locations = [3],\n",
    "#                                   steepness=1.0))\n",
    "## Can't use changepoint model at the moment, as GPflow doesn't allow for multidimension CP kernels\n",
    "\n",
    "# Fourth kernel is random unit effect + nonlinear random treatment effect over time + \n",
    "# nonlinear individual effect over time\n",
    "k4 = (gpflow.kernels.Coregion(output_dim=num_units, rank=1, active_dims=[0]) + \n",
    "      gpflow.kernels.Coregion(output_dim=len(np.unique(treat_group)), rank=1, active_dims=[1]) * \n",
    "      gpflow.kernels.Polynomial(degree = 2, offset = 0.05, variance=0.05, active_dims=[2]) + \n",
    "#       gpflow.kernels.Linear(active_dims=[2]) + \n",
    "      gpflow.kernels.Coregion(output_dim=num_units, rank=1, active_dims=[0]) *\n",
    "      gpflow.kernels.Matern32(variance=1.0, lengthscales=3.0, active_dims=[2]))\n",
    "\n",
    "\n",
    "# Kernel dictonary\n",
    "kern_out = {'k1': {'model': k1},\n",
    "            'k2': {'model': k2},\n",
    "            'k3': {'model': k3},\n",
    "            'k4': {'model': k4}}"
   ]
  },
  {
   "cell_type": "code",
   "execution_count": 5,
   "id": "28956621",
   "metadata": {},
   "outputs": [
    {
     "name": "stdout",
     "output_type": "stream",
     "text": [
      "Sampling from kernel k1\n",
      "Sampling from kernel k2\n",
      "Sampling from kernel k3\n",
      "Sampling from kernel k4\n"
     ]
    },
    {
     "data": {
      "image/png": "[encoded data removed]",
      "text/plain": [
       "<Figure size 518.4x122.4 with 4 Axes>"
      ]
     },
     "metadata": {
      "needs_background": "light"
     },
     "output_type": "display_data"
    }
   ],
   "source": [
    "np.random.seed(9012)\n",
    "# Specify plot object\n",
    "f, axs = plt.subplots(1, len(kern_out), figsize=(7.2,1.7))\n",
    "ic = 0\n",
    "# Prepare data for plotting\n",
    "df_plot = pd.DataFrame(df, \n",
    "                       columns=['unit','treatment','time'])\n",
    "df_plot.unit = df_plot.unit.astype('category')\n",
    "df_sim_plot = pd.DataFrame(df_sim, \n",
    "                       columns=['unit','treatment','time'])\n",
    "df_sim_plot.unit = df_sim_plot.unit.astype('category')\n",
    "\n",
    "# Sample from kernels\n",
    "for k in kern_out.keys():\n",
    "    print('Sampling from kernel {}'.format(k))\n",
    "    kern_out[k]['f_true'] = np.random.multivariate_normal(\n",
    "        np.zeros_like(df_sim[:,0]).flatten(),\n",
    "        kern_out[k]['model'](df_sim),# + 1e-4*np.eye(df_sim.shape[0]),\n",
    "        1\n",
    "    )\n",
    "    \n",
    "    kern_out[k]['y_obs'] = (kern_out[k]['f_true'][0,obs_idx] + \n",
    "                            np.random.normal(scale=0.1, size=len(df)))\n",
    "    \n",
    "    # Plot resulting output\n",
    "    df_sim_plot = df_sim_plot.assign(f_true = kern_out[k]['f_true'].flatten())\n",
    "    df_plot = df_plot.assign(y_obs = kern_out[k]['y_obs'].flatten())\n",
    "    p = sns.scatterplot(data=df_plot,\n",
    "                        x='time',\n",
    "                        y='y_obs',\n",
    "                        hue='unit',\n",
    "                        linewidths = 0.05,\n",
    "                        s=5,\n",
    "                        alpha=0.7,\n",
    "                        legend=False,\n",
    "                        ax=axs[ic])\n",
    "    p = sns.lineplot(data=df_sim_plot,\n",
    "                     x='time',\n",
    "                     y='f_true',\n",
    "                     hue='unit',\n",
    "                     legend=False,\n",
    "                     alpha=0.9,\n",
    "                     linewidth=0.35,\n",
    "                     ax=axs[ic])\n",
    "    p.set_title('Kernel {}'.format(ic+1))\n",
    "    if ic != 0:\n",
    "        p.set_ylabel('')\n",
    "    p.plot();\n",
    "    \n",
    "    ic += 1\n",
    "    \n",
    "# f_true = np.random.multivariate_normal(\n",
    "#     np.zeros_like(df[:,0]).flatten(),\n",
    "#     k1(df),\n",
    "#     1\n",
    "# )\n",
    "# y_true = f_true + np.random.normal(scale=1)\n",
    "\n",
    "# for i in range(num_units):\n",
    "# #     plt.plot(x, y_true[i,:], 'x')\n",
    "#     plt.plot(x, y_true[i,:], 'b')\n",
    "\n",
    "# plt.plot(df[:,2], f_true.T, 'x')\n",
    "# plt.plot(x, y_true.T);"
   ]
  },
  {
   "cell_type": "code",
   "execution_count": 6,
   "id": "e536702a",
   "metadata": {},
   "outputs": [],
   "source": [
    "plt.tight_layout()\n",
    "f.savefig('../figures/kernels.pdf', dpi=350, bbox_inches = \"tight\") \n",
    "f.savefig('../figures/Kernels.png', dpi=350, bbox_inches = \"tight\")\n",
    "plt.close()"
   ]
  },
  {
   "cell_type": "code",
   "execution_count": 7,
   "id": "d2b70e0a",
   "metadata": {},
   "outputs": [
    {
     "data": {
      "text/html": [
       "<div>\n",
       "<style scoped>\n",
       "    .dataframe tbody tr th:only-of-type {\n",
       "        vertical-align: middle;\n",
       "    }\n",
       "\n",
       "    .dataframe tbody tr th {\n",
       "        vertical-align: top;\n",
       "    }\n",
       "\n",
       "    .dataframe thead th {\n",
       "        text-align: right;\n",
       "    }\n",
       "</style>\n",
       "<table border=\"1\" class=\"dataframe\">\n",
       "  <thead>\n",
       "    <tr style=\"text-align: right;\">\n",
       "      <th></th>\n",
       "      <th>unit</th>\n",
       "      <th>treatment</th>\n",
       "      <th>time</th>\n",
       "      <th>k1_obs</th>\n",
       "      <th>k2_obs</th>\n",
       "      <th>k3_obs</th>\n",
       "      <th>k4_obs</th>\n",
       "    </tr>\n",
       "  </thead>\n",
       "  <tbody>\n",
       "    <tr>\n",
       "      <th>0</th>\n",
       "      <td>0.0</td>\n",
       "      <td>0.0</td>\n",
       "      <td>2.5</td>\n",
       "      <td>1.22</td>\n",
       "      <td>-0.08</td>\n",
       "      <td>0.22</td>\n",
       "      <td>0.92</td>\n",
       "    </tr>\n",
       "    <tr>\n",
       "      <th>1</th>\n",
       "      <td>0.0</td>\n",
       "      <td>0.0</td>\n",
       "      <td>5.1</td>\n",
       "      <td>1.05</td>\n",
       "      <td>-0.61</td>\n",
       "      <td>-0.15</td>\n",
       "      <td>1.52</td>\n",
       "    </tr>\n",
       "    <tr>\n",
       "      <th>2</th>\n",
       "      <td>0.0</td>\n",
       "      <td>0.0</td>\n",
       "      <td>5.5</td>\n",
       "      <td>-0.01</td>\n",
       "      <td>-0.85</td>\n",
       "      <td>-0.36</td>\n",
       "      <td>1.41</td>\n",
       "    </tr>\n",
       "    <tr>\n",
       "      <th>3</th>\n",
       "      <td>0.0</td>\n",
       "      <td>0.0</td>\n",
       "      <td>6.1</td>\n",
       "      <td>-0.79</td>\n",
       "      <td>-0.17</td>\n",
       "      <td>-0.49</td>\n",
       "      <td>2.20</td>\n",
       "    </tr>\n",
       "    <tr>\n",
       "      <th>4</th>\n",
       "      <td>0.0</td>\n",
       "      <td>0.0</td>\n",
       "      <td>6.8</td>\n",
       "      <td>0.51</td>\n",
       "      <td>-0.06</td>\n",
       "      <td>-0.70</td>\n",
       "      <td>2.60</td>\n",
       "    </tr>\n",
       "  </tbody>\n",
       "</table>\n",
       "</div>"
      ],
      "text/plain": [
       "  unit  treatment  time  k1_obs  k2_obs  k3_obs  k4_obs\n",
       "0  0.0        0.0   2.5    1.22   -0.08    0.22    0.92\n",
       "1  0.0        0.0   5.1    1.05   -0.61   -0.15    1.52\n",
       "2  0.0        0.0   5.5   -0.01   -0.85   -0.36    1.41\n",
       "3  0.0        0.0   6.1   -0.79   -0.17   -0.49    2.20\n",
       "4  0.0        0.0   6.8    0.51   -0.06   -0.70    2.60"
      ]
     },
     "execution_count": 7,
     "metadata": {},
     "output_type": "execute_result"
    }
   ],
   "source": [
    "# Drop plotting column\n",
    "df_plot.drop(columns=['y_obs'], inplace=True)\n",
    "for k in kern_out.keys():\n",
    "    df_plot[k+'_obs'] = np.round(kern_out[k]['y_obs'], 2)\n",
    "df_plot.head()"
   ]
  },
  {
   "cell_type": "code",
   "execution_count": 8,
   "id": "e2e8f1ea",
   "metadata": {},
   "outputs": [],
   "source": [
    "# Save output data\n",
    "df_plot.to_csv('simulated_data.csv', index=False)"
   ]
  },
  {
   "cell_type": "code",
   "execution_count": 9,
   "id": "5e8c56b5",
   "metadata": {},
   "outputs": [
    {
     "data": {
      "text/plain": [
       "0.09653235263005393"
      ]
     },
     "execution_count": 9,
     "metadata": {},
     "output_type": "execute_result"
    }
   ],
   "source": [
    "# Calculate best BIC from known models\n",
    "def calc_bic(loglik, n, k):\n",
    "    return k*np.log(n)-2*loglik\n",
    "\n",
    "from scipy.stats import multivariate_normal\n",
    "var = multivariate_normal(mean=[0,0], cov=[[1,0],[0,1]])\n",
    "var.pdf([1,0])"
   ]
  },
  {
   "cell_type": "code",
   "execution_count": 10,
   "id": "8d678f23",
   "metadata": {},
   "outputs": [
    {
     "data": {
      "text/plain": [
       "44.67663031291681"
      ]
     },
     "execution_count": 10,
     "metadata": {},
     "output_type": "execute_result"
    }
   ],
   "source": [
    "from scipy.stats import multivariate_normal\n",
    "mvn = multivariate_normal(\n",
    "    mean = np.zeros_like(df[:,0]), \n",
    "    cov = k1(df) + 0.01*np.eye(df.shape[0])\n",
    ")\n",
    "k1_loglik = mvn.logpdf(df_plot['k1_obs'])\n",
    "calc_bic(k1_loglik, n=df.shape[0], k=len(k1.trainable_parameters))"
   ]
  },
  {
   "cell_type": "code",
   "execution_count": null,
   "id": "ac3ef926",
   "metadata": {},
   "outputs": [],
   "source": []
  }
 ],
 "metadata": {
  "kernelspec": {
   "display_name": "gp",
   "language": "python",
   "name": "gp"
  },
  "language_info": {
   "codemirror_mode": {
    "name": "ipython",
    "version": 3
   },
   "file_extension": ".py",
   "mimetype": "text/x-python",
   "name": "python",
   "nbconvert_exporter": "python",
   "pygments_lexer": "ipython3",
   "version": "3.8.10"
  }
 },
 "nbformat": 4,
 "nbformat_minor": 5
}
