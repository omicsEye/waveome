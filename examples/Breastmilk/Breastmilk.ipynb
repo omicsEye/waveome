{
 "cells": [
  {
   "cell_type": "code",
   "execution_count": null,
   "id": "7df79878",
   "metadata": {
    "tags": []
   },
   "outputs": [],
   "source": [
    "# Libraries\n",
    "from waveome.model_search import GPKernelSearch\n",
    "import pandas as pd"
   ]
  },
  {
   "cell_type": "code",
   "execution_count": null,
   "id": "faed1eb0",
   "metadata": {},
   "outputs": [],
   "source": [
    "# Read data in\n",
    "df = pd.read_excel(\"newdata.xlsx\")"
   ]
  },
  {
   "cell_type": "code",
   "execution_count": null,
   "id": "7c2eee12-5e39-4be6-924b-0824918cccc9",
   "metadata": {
    "tags": []
   },
   "outputs": [],
   "source": [
    "# Include this library for normalization\n",
    "import numpy as np\n",
    "\n",
    "# Show what some of the original and transformed variables look like\n",
    "print(df.iloc[:5, 7])\n",
    "print(np.log(df.iloc[:5,7]))\n",
    "\n",
    "np.log(df.iloc[:,7]).hist()"
   ]
  },
  {
   "cell_type": "code",
   "execution_count": null,
   "id": "6fea02d5-d390-41e6-b412-54b484c226e3",
   "metadata": {
    "tags": []
   },
   "outputs": [],
   "source": [
    "# Original skewed distribution\n",
    "df.iloc[:,7].hist()"
   ]
  },
  {
   "cell_type": "code",
   "execution_count": null,
   "id": "4be84654",
   "metadata": {},
   "outputs": [],
   "source": [
    "# Need to recode categorical as numeric for search\n",
    "df[\"Breast milk collected\"], bmc_values = pd.factorize(df[\"Breast milk collected\"])"
   ]
  },
  {
   "cell_type": "code",
   "execution_count": null,
   "id": "574c4b61",
   "metadata": {},
   "outputs": [],
   "source": [
    "# Specify covariates\n",
    "covariate_list = [\n",
    "    \"individual_id\", \"age stool sample\", \n",
    "    \"birth weight\", \"Age at breast milk sample\", \n",
    "    \"Gestational by weight percentagete\",\n",
    "    \"Breast milk collected\"\n",
    "]"
   ]
  },
  {
   "cell_type": "code",
   "execution_count": null,
   "id": "a9d7605f",
   "metadata": {
    "collapsed": false,
    "jupyter": {
     "outputs_hidden": false
    },
    "tags": []
   },
   "outputs": [],
   "source": [
    "column_names = df.columns.tolist()\n",
    "print(column_names[7:])\n",
    "df[column_names[7:]] = df[column_names[7:]].astype(float)\n",
    "Y = df[column_names[7:]]\n",
    "Y.head()"
   ]
  },
  {
   "cell_type": "code",
   "execution_count": null,
   "id": "240d46e6-892e-4ef1-86ee-c247c488d3e0",
   "metadata": {
    "tags": []
   },
   "outputs": [],
   "source": [
    "# Transform my outcome variables to be more normal\n",
    "Y = np.log(Y)\n",
    "\n",
    "# Center the outcomes as well\n",
    "Y = Y - Y.mean(axis=0)\n",
    "\n",
    "# Finally scale them so the variance = 1 (easier for model convergence)\n",
    "Y = Y/Y.std(axis=0)\n",
    "\n",
    "# Take a look at the outcomes\n",
    "Y.head()"
   ]
  },
  {
   "cell_type": "code",
   "execution_count": null,
   "id": "be76acb9",
   "metadata": {},
   "outputs": [],
   "source": [
    "# Load up search object\n",
    "gps = GPKernelSearch(\n",
    "    X=df[covariate_list].astype(float),\n",
    "    Y=Y,\n",
    "    unit_col=\"individual_id\",\n",
    "    categorical_vars=[\"Breast milk collected\"],\n",
    "    outcome_likelihood='gaussian'\n",
    ")"
   ]
  },
  {
   "cell_type": "code",
   "execution_count": null,
   "id": "fcb78a01",
   "metadata": {},
   "outputs": [],
   "source": [
    "# Run search (takes ~4mins)\n",
    "gps.run_search(random_seed=1)"
   ]
  },
  {
   "cell_type": "code",
   "execution_count": null,
   "id": "5e127a13",
   "metadata": {
    "collapsed": false,
    "jupyter": {
     "outputs_hidden": false
    }
   },
   "outputs": [],
   "source": [
    "gps.plot_parts(\n",
    "    out_label='(14 or 15)-methylpalmitate (a17:0 or i17:0)',\n",
    "    x_axis_label='Age at breast milk sample')"
   ]
  },
  {
   "cell_type": "code",
   "execution_count": null,
   "id": "36aa75d9",
   "metadata": {
    "collapsed": false,
    "jupyter": {
     "outputs_hidden": false
    }
   },
   "outputs": [],
   "source": [
    "gps.plot_parts(\n",
    "    out_label='(S)-3-hydroxybutyrylcarnitine',\n",
    "    x_axis_label='Age at breast milk sample')"
   ]
  },
  {
   "cell_type": "code",
   "execution_count": null,
   "id": "58ad8310",
   "metadata": {
    "collapsed": false,
    "jupyter": {
     "outputs_hidden": false
    }
   },
   "outputs": [],
   "source": [
    "gps.plot_parts(\n",
    "    out_label='1,3-propanediol',\n",
    "    x_axis_label='Age at breast milk sample')"
   ]
  },
  {
   "cell_type": "code",
   "execution_count": null,
   "id": "8a19bcc6",
   "metadata": {},
   "outputs": [],
   "source": [
    "# Check out high level results\n",
    "gps.plot_heatmap()"
   ]
  }
 ],
 "metadata": {
  "kernelspec": {
   "display_name": "waveome",
   "language": "python",
   "name": "waveome"
  },
  "language_info": {
   "codemirror_mode": {
    "name": "ipython",
    "version": 3
   },
   "file_extension": ".py",
   "mimetype": "text/x-python",
   "name": "python",
   "nbconvert_exporter": "python",
   "pygments_lexer": "ipython3",
   "version": "3.8.12"
  }
 },
 "nbformat": 4,
 "nbformat_minor": 5
}
